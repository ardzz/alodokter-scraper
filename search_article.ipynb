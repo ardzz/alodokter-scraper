{
 "cells": [
  {
   "cell_type": "code",
   "execution_count": null,
   "outputs": [],
   "source": [
    "import documents.alodokter.request as alodokter_request\n",
    "from json import dumps\n",
    "import pandas as pd\n",
    "\n",
    "search = alodokter_request.search(\"covid 19\", max_result=200)\n",
    "df = pd.DataFrame(search)"
   ],
   "metadata": {
    "collapsed": false
   }
  },
  {
   "cell_type": "code",
   "execution_count": 23,
   "outputs": [
    {
     "data": {
      "text/plain": "                                              url_path   \n0                   https://www.alodokter.com/covid-19  \\\n1               https://www.alodokter.com/virus-corona   \n2             https://www.alodokter.com/vaksin-moderna   \n3           https://www.alodokter.com/vaksin-sinopharm   \n4    https://www.alodokter.com/mengenal-covid-19-va...   \n..                                                 ...   \n195  https://www.alodokter.com/menyemprotkan-disinf...   \n196  https://www.alodokter.com/ketahui-sederet-obat...   \n197  https://www.alodokter.com/tips-agar-anak-tidak...   \n198  https://www.alodokter.com/risiko-penularan-vir...   \n199  https://www.alodokter.com/kembali-bekerja-sete...   \n\n                                             image_url   category      label   \n0    https://res.cloudinary.com/dk0z4ums3/image/upl...  Kesehatan  kesehatan  \\\n1    https://res.cloudinary.com/dk0z4ums3/image/upl...  Kesehatan  kesehatan   \n2    https://res.cloudinary.com/dk0z4ums3/image/upl...    obat-az    obat-az   \n3    https://res.cloudinary.com/dk0z4ums3/image/upl...    obat-az    obat-az   \n4    https://res.cloudinary.com/dk0z4ums3/image/upl...  Kesehatan  kesehatan   \n..                                                 ...        ...        ...   \n195  https://res.cloudinary.com/dk0z4ums3/image/upl...  Kesehatan  kesehatan   \n196  https://res.cloudinary.com/dk0z4ums3/image/upl...  Kesehatan  kesehatan   \n197  https://res.cloudinary.com/dk0z4ums3/image/upl...   Keluarga   keluarga   \n198  https://res.cloudinary.com/dk0z4ums3/image/upl...  Kesehatan  kesehatan   \n199  https://res.cloudinary.com/dk0z4ums3/image/upl...  Kesehatan  kesehatan   \n\n                                                 title   \n0                                             COVID-19  \\\n1                                         Virus Corona   \n2                                       Vaksin Moderna   \n3                                     Vaksin Sinopharm   \n4                      Mengenal COVID-19 Varian Lambda   \n..                                                 ...   \n195  Menyemprotkan Disinfektan ke Tubuh: Aman dan E...   \n196         Ketahui Sederet Obat-Obatan Corona di Sini   \n197  Tips agar Anak Tidak Bosan di Rumah Selama Pan...   \n198                      Risiko Penularan Virus Corona   \n199  Kembali Bekerja Setelah PSBB, Ini Hal-Hal yang...   \n\n                                     short_description   \n0    COVID-19 adalah penyakit akibat infeksi virus ...  \\\n1    Virus Corona atau severe acute respiratory syn...   \n2    Vaksin Moderna adalah vaksin untuk melindungi ...   \n3    Vaksin Sinopharm adalah vaksin untuk mencegah ...   \n4    Virus Corona penyebab COVID-19 masih terus ber...   \n..                                                 ...   \n195  Tidak sedikit orang yang percaya bahwa menyemp...   \n196  Saat ini, memang sudah banyak tersedia obat vi...   \n197  Pandemi COVID-19 membuat anak-anak tidak bisa ...   \n198  Tinggi rendahnya risiko penularan virus Corona...   \n199  Dalam waktu dekat, aturan PSBB (Pembatasan Sos...   \n\n                                               article  \n0    \\n\\nCOVID-19 adalah penyakit akibat infeksi vi...  \n1    \\n\\nVirus Corona atauÂ severe acute respirator...  \n2    \\n\\nVaksin Moderna adalah vaksin untuk melindu...  \n3    \\n\\nVaksin Sinopharm adalah vaksin untuk mence...  \n4    \\n\\n\\nVirus Corona penyebab COVID-19 masih ter...  \n..                                                 ...  \n195  \\n\\n\\nTidak sedikit orang yang percaya bahwa m...  \n196  \\n\\n\\nSaat ini, memang sudah banyak tersedia o...  \n197  \\n\\n\\nPandemi COVID-19 membuat anak-anak tidak...  \n198  \\n\\n\\nTinggi rendahnya risiko penularan virus ...  \n199  \\n\\n\\nDalam waktu dekat, aturan PSBB (Pembatas...  \n\n[200 rows x 7 columns]",
      "text/html": "<div>\n<style scoped>\n    .dataframe tbody tr th:only-of-type {\n        vertical-align: middle;\n    }\n\n    .dataframe tbody tr th {\n        vertical-align: top;\n    }\n\n    .dataframe thead th {\n        text-align: right;\n    }\n</style>\n<table border=\"1\" class=\"dataframe\">\n  <thead>\n    <tr style=\"text-align: right;\">\n      <th></th>\n      <th>url_path</th>\n      <th>image_url</th>\n      <th>category</th>\n      <th>label</th>\n      <th>title</th>\n      <th>short_description</th>\n      <th>article</th>\n    </tr>\n  </thead>\n  <tbody>\n    <tr>\n      <th>0</th>\n      <td>https://www.alodokter.com/covid-19</td>\n      <td>https://res.cloudinary.com/dk0z4ums3/image/upl...</td>\n      <td>Kesehatan</td>\n      <td>kesehatan</td>\n      <td>COVID-19</td>\n      <td>COVID-19 adalah penyakit akibat infeksi virus ...</td>\n      <td>\\n\\nCOVID-19 adalah penyakit akibat infeksi vi...</td>\n    </tr>\n    <tr>\n      <th>1</th>\n      <td>https://www.alodokter.com/virus-corona</td>\n      <td>https://res.cloudinary.com/dk0z4ums3/image/upl...</td>\n      <td>Kesehatan</td>\n      <td>kesehatan</td>\n      <td>Virus Corona</td>\n      <td>Virus Corona atau severe acute respiratory syn...</td>\n      <td>\\n\\nVirus Corona atauÂ severe acute respirator...</td>\n    </tr>\n    <tr>\n      <th>2</th>\n      <td>https://www.alodokter.com/vaksin-moderna</td>\n      <td>https://res.cloudinary.com/dk0z4ums3/image/upl...</td>\n      <td>obat-az</td>\n      <td>obat-az</td>\n      <td>Vaksin Moderna</td>\n      <td>Vaksin Moderna adalah vaksin untuk melindungi ...</td>\n      <td>\\n\\nVaksin Moderna adalah vaksin untuk melindu...</td>\n    </tr>\n    <tr>\n      <th>3</th>\n      <td>https://www.alodokter.com/vaksin-sinopharm</td>\n      <td>https://res.cloudinary.com/dk0z4ums3/image/upl...</td>\n      <td>obat-az</td>\n      <td>obat-az</td>\n      <td>Vaksin Sinopharm</td>\n      <td>Vaksin Sinopharm adalah vaksin untuk mencegah ...</td>\n      <td>\\n\\nVaksin Sinopharm adalah vaksin untuk mence...</td>\n    </tr>\n    <tr>\n      <th>4</th>\n      <td>https://www.alodokter.com/mengenal-covid-19-va...</td>\n      <td>https://res.cloudinary.com/dk0z4ums3/image/upl...</td>\n      <td>Kesehatan</td>\n      <td>kesehatan</td>\n      <td>Mengenal COVID-19 Varian Lambda</td>\n      <td>Virus Corona penyebab COVID-19 masih terus ber...</td>\n      <td>\\n\\n\\nVirus Corona penyebab COVID-19 masih ter...</td>\n    </tr>\n    <tr>\n      <th>...</th>\n      <td>...</td>\n      <td>...</td>\n      <td>...</td>\n      <td>...</td>\n      <td>...</td>\n      <td>...</td>\n      <td>...</td>\n    </tr>\n    <tr>\n      <th>195</th>\n      <td>https://www.alodokter.com/menyemprotkan-disinf...</td>\n      <td>https://res.cloudinary.com/dk0z4ums3/image/upl...</td>\n      <td>Kesehatan</td>\n      <td>kesehatan</td>\n      <td>Menyemprotkan Disinfektan ke Tubuh: Aman dan E...</td>\n      <td>Tidak sedikit orang yang percaya bahwa menyemp...</td>\n      <td>\\n\\n\\nTidak sedikit orang yang percaya bahwa m...</td>\n    </tr>\n    <tr>\n      <th>196</th>\n      <td>https://www.alodokter.com/ketahui-sederet-obat...</td>\n      <td>https://res.cloudinary.com/dk0z4ums3/image/upl...</td>\n      <td>Kesehatan</td>\n      <td>kesehatan</td>\n      <td>Ketahui Sederet Obat-Obatan Corona di Sini</td>\n      <td>Saat ini, memang sudah banyak tersedia obat vi...</td>\n      <td>\\n\\n\\nSaat ini, memang sudah banyak tersedia o...</td>\n    </tr>\n    <tr>\n      <th>197</th>\n      <td>https://www.alodokter.com/tips-agar-anak-tidak...</td>\n      <td>https://res.cloudinary.com/dk0z4ums3/image/upl...</td>\n      <td>Keluarga</td>\n      <td>keluarga</td>\n      <td>Tips agar Anak Tidak Bosan di Rumah Selama Pan...</td>\n      <td>Pandemi COVID-19 membuat anak-anak tidak bisa ...</td>\n      <td>\\n\\n\\nPandemi COVID-19 membuat anak-anak tidak...</td>\n    </tr>\n    <tr>\n      <th>198</th>\n      <td>https://www.alodokter.com/risiko-penularan-vir...</td>\n      <td>https://res.cloudinary.com/dk0z4ums3/image/upl...</td>\n      <td>Kesehatan</td>\n      <td>kesehatan</td>\n      <td>Risiko Penularan Virus Corona</td>\n      <td>Tinggi rendahnya risiko penularan virus Corona...</td>\n      <td>\\n\\n\\nTinggi rendahnya risiko penularan virus ...</td>\n    </tr>\n    <tr>\n      <th>199</th>\n      <td>https://www.alodokter.com/kembali-bekerja-sete...</td>\n      <td>https://res.cloudinary.com/dk0z4ums3/image/upl...</td>\n      <td>Kesehatan</td>\n      <td>kesehatan</td>\n      <td>Kembali Bekerja Setelah PSBB, Ini Hal-Hal yang...</td>\n      <td>Dalam waktu dekat, aturan PSBB (Pembatasan Sos...</td>\n      <td>\\n\\n\\nDalam waktu dekat, aturan PSBB (Pembatas...</td>\n    </tr>\n  </tbody>\n</table>\n<p>200 rows × 7 columns</p>\n</div>"
     },
     "execution_count": 23,
     "metadata": {},
     "output_type": "execute_result"
    }
   ],
   "source": [
    "df"
   ],
   "metadata": {
    "collapsed": false,
    "ExecuteTime": {
     "end_time": "2023-05-09T13:02:59.023280Z",
     "start_time": "2023-05-09T13:02:59.010595Z"
    }
   }
  },
  {
   "cell_type": "code",
   "execution_count": null,
   "outputs": [],
   "source": [],
   "metadata": {
    "collapsed": false
   }
  }
 ],
 "metadata": {
  "kernelspec": {
   "display_name": "Python 3",
   "language": "python",
   "name": "python3"
  },
  "language_info": {
   "codemirror_mode": {
    "name": "ipython",
    "version": 2
   },
   "file_extension": ".py",
   "mimetype": "text/x-python",
   "name": "python",
   "nbconvert_exporter": "python",
   "pygments_lexer": "ipython2",
   "version": "2.7.6"
  }
 },
 "nbformat": 4,
 "nbformat_minor": 0
}
